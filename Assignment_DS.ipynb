 BiocManager::install(version = "3.12")
 utils:::menuInstallPkgs()
trying URL 'https://mirror.niser.ac.in/cran/bin/windows/contrib/4.0/codetools_0.2-18.zip'
Content type 'application/zip' length 91116 bytes (88 KB)
downloaded 88 KB

package ‘codetools’ successfully unpacked and MD5 sums checked

The downloaded binary packages are in
        C:\Users\ASS\AppData\Local\Temp\RtmpeW6hi4\downloaded_packages
> utils:::menuInstallPkgs()
trying URL 'https://mirror.niser.ac.in/cran/bin/windows/contrib/4.0/KernSmooth_2.23-18.zip'
Content type 'application/zip' length 116005 bytes (113 KB)
downloaded 113 KB

package ‘KernSmooth’ successfully unpacked and MD5 sums checked

The downloaded binary packages are in
        C:\Users\ASS\AppData\Local\Temp\RtmpeW6hi4\downloaded_packages
> utils:::menuInstallPkgs()
trying URL 'https://mirror.niser.ac.in/cran/bin/windows/contrib/4.0/nlme_3.1-150.zip'
Content type 'application/zip' length 2353993 bytes (2.2 MB)
downloaded 2.2 MB

package ‘nlme’ successfully unpacked and MD5 sums checked

The downloaded binary packages are in
        C:\Users\ASS\AppData\Local\Temp\RtmpeW6hi4\downloaded_packages
> if (!requireNamespace("BiocManager", quietly = TRUE))
+     install.packages("BiocManager")
> 
> BiocManager::install("cmapR")
Bioconductor version 3.12 (BiocManager 1.30.10), R 4.0.3 (2020-10-10)
Installing package(s) 'cmapR'
Warning: dependency ‘prada’ is not available
trying URL 'https://bioconductor.org/packages/3.12/bioc/bin/windows/contrib/4.0/cmapR_1.2.0.zip'
Content type 'application/zip' length 4116654 bytes (3.9 MB)
downloaded 3.9 MB

package ‘cmapR’ successfully unpacked and MD5 sums checked

The downloaded binary packages are in
        C:\Users\ASS\AppData\Local\Temp\RtmpeW6hi4\downloaded_packages
Installation path not writeable, unable to update packages: codetools, KernSmooth, nlme
> update.packages(ask='graphics',checkBuilt=TRUE)
Warning: package 'codetools' in library 'C:/Program Files/R/R-4.0.3/library' will not be updated
Warning: package 'KernSmooth' in library 'C:/Program Files/R/R-4.0.3/library' will not be updated
Warning: package 'nlme' in library 'C:/Program Files/R/R-4.0.3/library' will not be updated
> getwd()
[1] "C:/Users/ASS/Desktop/ELUCIDATA_ASSIGNMENT"
> read.gct("PAAD.gct")
Error in read.gct("PAAD.gct") : could not find function "read.gct"
> paad <- read.gct("PAAD.gct")
Error in read.gct("PAAD.gct") : could not find function "read.gct"
